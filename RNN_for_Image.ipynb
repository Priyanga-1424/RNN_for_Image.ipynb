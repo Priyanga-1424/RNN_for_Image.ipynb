{
  "nbformat": 4,
  "nbformat_minor": 0,
  "metadata": {
    "colab": {
      "name": "RNN_for_Image.ipynb",
      "provenance": [],
      "authorship_tag": "ABX9TyM/ekrRL7MEkOghVy11Ruq5",
      "include_colab_link": true
    },
    "kernelspec": {
      "name": "python3",
      "display_name": "Python 3"
    },
    "language_info": {
      "name": "python"
    }
  },
  "cells": [
    {
      "cell_type": "markdown",
      "metadata": {
        "id": "view-in-github",
        "colab_type": "text"
      },
      "source": [
        "<a href=\"https://colab.research.google.com/github/Priyanga-1424/RNN_for_Image.ipynb/blob/main/RNN_for_Image.ipynb\" target=\"_parent\"><img src=\"https://colab.research.google.com/assets/colab-badge.svg\" alt=\"Open In Colab\"/></a>"
      ]
    },
    {
      "cell_type": "code",
      "execution_count": 1,
      "metadata": {
        "id": "CwcqeshqkcqM"
      },
      "outputs": [],
      "source": [
        "import numpy as np\n",
        "from tensorflow.keras.models import Sequential\n",
        "from tensorflow.keras.layers import Dense, Activation, SimpleRNN\n",
        "from tensorflow.keras.utils import to_categorical, plot_model\n",
        "from tensorflow.keras.datasets import mnist"
      ]
    },
    {
      "cell_type": "code",
      "source": [
        "# load mnist dataset\n",
        "(x_train, y_train), (x_test, y_test) = mnist.load_data()"
      ],
      "metadata": {
        "colab": {
          "base_uri": "https://localhost:8080/"
        },
        "id": "lRFBtYpnkwNd",
        "outputId": "d154d4ca-f4a7-4aee-8f91-a00b66a7475b"
      },
      "execution_count": 2,
      "outputs": [
        {
          "output_type": "stream",
          "name": "stdout",
          "text": [
            "Downloading data from https://storage.googleapis.com/tensorflow/tf-keras-datasets/mnist.npz\n",
            "11493376/11490434 [==============================] - 0s 0us/step\n",
            "11501568/11490434 [==============================] - 0s 0us/step\n"
          ]
        }
      ]
    },
    {
      "cell_type": "code",
      "source": [
        "# compute the number of labels\n",
        "num_labels = len(np.unique(y_train))"
      ],
      "metadata": {
        "id": "Hv91IDR0k2SC"
      },
      "execution_count": 3,
      "outputs": []
    },
    {
      "cell_type": "code",
      "source": [
        "# convert to one-hot vector\n",
        "y_train = to_categorical(y_train)\n",
        "y_test = to_categorical(y_test)"
      ],
      "metadata": {
        "id": "lprhQq_nk5xW"
      },
      "execution_count": 4,
      "outputs": []
    },
    {
      "cell_type": "code",
      "source": [
        "# resize and normalize\n",
        "image_size = x_train.shape[1]\n",
        "x_train = np.reshape(x_train,[-1, image_size, image_size])\n",
        "x_test = np.reshape(x_test,[-1, image_size, image_size])\n",
        "x_train = x_train.astype('float32') / 255\n",
        "x_test = x_test.astype('float32') / 255"
      ],
      "metadata": {
        "id": "5jphfoD0k9Zy"
      },
      "execution_count": 5,
      "outputs": []
    },
    {
      "cell_type": "code",
      "source": [
        "# network parameters\n",
        "input_shape = (image_size, image_size)\n",
        "batch_size = 128\n",
        "units = 256\n",
        "dropout = 0.2"
      ],
      "metadata": {
        "id": "iSTzKa-hlCbO"
      },
      "execution_count": 6,
      "outputs": []
    },
    {
      "cell_type": "code",
      "source": [
        "# model is RNN with 256 units, input is 28-dim vector 28 timesteps\n",
        "model = Sequential()\n",
        "model.add(SimpleRNN(units=units,\n",
        "                    dropout=dropout,\n",
        "                    input_shape=input_shape))\n",
        "model.add(Dense(num_labels))\n",
        "model.add(Activation('softmax'))\n",
        "model.summary()"
      ],
      "metadata": {
        "colab": {
          "base_uri": "https://localhost:8080/"
        },
        "id": "rQfnaxI8lHXR",
        "outputId": "4f44a2ee-e4ab-4683-ff84-e2ac46ffc3f5"
      },
      "execution_count": 7,
      "outputs": [
        {
          "output_type": "stream",
          "name": "stdout",
          "text": [
            "Model: \"sequential\"\n",
            "_________________________________________________________________\n",
            " Layer (type)                Output Shape              Param #   \n",
            "=================================================================\n",
            " simple_rnn (SimpleRNN)      (None, 256)               72960     \n",
            "                                                                 \n",
            " dense (Dense)               (None, 10)                2570      \n",
            "                                                                 \n",
            " activation (Activation)     (None, 10)                0         \n",
            "                                                                 \n",
            "=================================================================\n",
            "Total params: 75,530\n",
            "Trainable params: 75,530\n",
            "Non-trainable params: 0\n",
            "_________________________________________________________________\n"
          ]
        }
      ]
    },
    {
      "cell_type": "code",
      "source": [
        "# loss function for one-hot vector\n",
        "# use of sgd optimizer\n",
        "# accuracy is good metric for classification tasks\n",
        "model.compile(loss='categorical_crossentropy',\n",
        "              optimizer='sgd',\n",
        "              metrics=['accuracy'])\n",
        "# train the network\n",
        "model.fit(x_train, y_train, epochs=20, batch_size=batch_size)"
      ],
      "metadata": {
        "colab": {
          "base_uri": "https://localhost:8080/"
        },
        "id": "JldaVx24lPRK",
        "outputId": "0d7e05b5-d1dd-4065-e330-0e0a8cdc4620"
      },
      "execution_count": 8,
      "outputs": [
        {
          "output_type": "stream",
          "name": "stdout",
          "text": [
            "Epoch 1/20\n",
            "469/469 [==============================] - 31s 65ms/step - loss: 0.7609 - accuracy: 0.7791\n",
            "Epoch 2/20\n",
            "469/469 [==============================] - 30s 64ms/step - loss: 0.3327 - accuracy: 0.9033\n",
            "Epoch 3/20\n",
            "469/469 [==============================] - 30s 63ms/step - loss: 0.2453 - accuracy: 0.9280\n",
            "Epoch 4/20\n",
            "469/469 [==============================] - 30s 64ms/step - loss: 0.2004 - accuracy: 0.9401\n",
            "Epoch 5/20\n",
            "469/469 [==============================] - 30s 63ms/step - loss: 0.1707 - accuracy: 0.9491\n",
            "Epoch 6/20\n",
            "469/469 [==============================] - 30s 64ms/step - loss: 0.1524 - accuracy: 0.9531\n",
            "Epoch 7/20\n",
            "469/469 [==============================] - 30s 64ms/step - loss: 0.1391 - accuracy: 0.9583\n",
            "Epoch 8/20\n",
            "469/469 [==============================] - 30s 64ms/step - loss: 0.1315 - accuracy: 0.9601\n",
            "Epoch 9/20\n",
            "469/469 [==============================] - 30s 64ms/step - loss: 0.1218 - accuracy: 0.9637\n",
            "Epoch 10/20\n",
            "469/469 [==============================] - 30s 63ms/step - loss: 0.1139 - accuracy: 0.9658\n",
            "Epoch 11/20\n",
            "469/469 [==============================] - 30s 64ms/step - loss: 0.1060 - accuracy: 0.9684\n",
            "Epoch 12/20\n",
            "469/469 [==============================] - 30s 64ms/step - loss: 0.1033 - accuracy: 0.9686\n",
            "Epoch 13/20\n",
            "469/469 [==============================] - 30s 64ms/step - loss: 0.0977 - accuracy: 0.9710\n",
            "Epoch 14/20\n",
            "469/469 [==============================] - 30s 64ms/step - loss: 0.0930 - accuracy: 0.9718\n",
            "Epoch 15/20\n",
            "469/469 [==============================] - 30s 63ms/step - loss: 0.0877 - accuracy: 0.9722\n",
            "Epoch 16/20\n",
            "469/469 [==============================] - 30s 64ms/step - loss: 0.0839 - accuracy: 0.9742\n",
            "Epoch 17/20\n",
            "469/469 [==============================] - 30s 64ms/step - loss: 0.0806 - accuracy: 0.9757\n",
            "Epoch 18/20\n",
            "469/469 [==============================] - 30s 64ms/step - loss: 0.0797 - accuracy: 0.9757\n",
            "Epoch 19/20\n",
            "469/469 [==============================] - 30s 63ms/step - loss: 0.0764 - accuracy: 0.9759\n",
            "Epoch 20/20\n",
            "469/469 [==============================] - 30s 64ms/step - loss: 0.0737 - accuracy: 0.9773\n"
          ]
        },
        {
          "output_type": "execute_result",
          "data": {
            "text/plain": [
              "<keras.callbacks.History at 0x7f95b59ff110>"
            ]
          },
          "metadata": {},
          "execution_count": 8
        }
      ]
    },
    {
      "cell_type": "code",
      "source": [
        "_, acc = model.evaluate(x_test,\n",
        "                        y_test,\n",
        "                        batch_size=batch_size,\n",
        "                        verbose=0)\n",
        "print(\"\\nTest accuracy: %.1f%%\" % (100.0 * acc))"
      ],
      "metadata": {
        "colab": {
          "base_uri": "https://localhost:8080/"
        },
        "id": "RFrbAvt7oGgl",
        "outputId": "e58aa225-a5c6-4f63-f719-1c1228977ec1"
      },
      "execution_count": 9,
      "outputs": [
        {
          "output_type": "stream",
          "name": "stdout",
          "text": [
            "\n",
            "Test accuracy: 98.0%\n"
          ]
        }
      ]
    }
  ]
}